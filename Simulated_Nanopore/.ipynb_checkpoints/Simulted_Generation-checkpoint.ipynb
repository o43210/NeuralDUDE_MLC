{
 "cells": [
  {
   "cell_type": "code",
   "execution_count": 1,
   "metadata": {
    "collapsed": true
   },
   "outputs": [],
   "source": [
    "from numpy import *\n",
    "import tetra_dude as td\n",
    "nt_order = \"ATGC\"\n",
    "\n",
    "file_name = \"16S_rRNA\""
   ]
  },
  {
   "cell_type": "code",
   "execution_count": 2,
   "metadata": {
    "collapsed": false
   },
   "outputs": [],
   "source": [
    "#################################################################\n",
    "#FROM REFERENCE\n",
    "#################################################################\n",
    "f = open(\"%s_read_info.txt\" % file_name, \"r\")\n",
    "reads = f.readlines()\n",
    "f.close()\n",
    "read_ref = []\n",
    "read_n = []\n",
    "read_len = []\n",
    "for i in range(1,len(reads)):\n",
    "    tokens = (reads[i].rstrip()).split()\n",
    "    read_ref.append(tokens[0])\n",
    "    read_n.append(int(tokens[1]))\n",
    "    read_len.append(int(tokens[2]))\n",
    "\n",
    "f = open(\"%s.fa\" % file_name, \"r\")\n",
    "ref = f.readlines()\n",
    "f.close()\n",
    "ref_seq = []\n",
    "seq = \"\"\n",
    "r = 0\n",
    "for i in range(len(ref)):\n",
    "    if r == 0:\n",
    "        r += 1\n",
    "        continue\n",
    "    elif len(ref[i]) == 1:\n",
    "        ref_seq.append(seq)\n",
    "        r = 0\n",
    "        seq = \"\"\n",
    "    else:\n",
    "        seq = seq + ref[i][0:len(ref[i])-1]  \n",
    "        if i == len(ref)-1:\n",
    "            ref_seq.append(seq)\n",
    "        \n",
    "f = open(\"Simluted_%s_Nanopore_x.fa\" % file_name, \"w\")\n",
    "num = 1\n",
    "for i in range(len(read_ref)):\n",
    "    for j in range(read_n[i]):\n",
    "        pos = random.randint(0,len(ref_seq[i])-read_len[i])\n",
    "        f.write(\">%s read_%d pos:%d len:%d\\n\" % (read_ref[i],num,pos,read_len[i]))\n",
    "        f.write(ref_seq[i][pos:pos+read_len[i]].upper()+'\\n')\n",
    "        f.flush()\n",
    "        num += 1\n",
    "f.close()"
   ]
  },
  {
   "cell_type": "code",
   "execution_count": null,
   "metadata": {
    "collapsed": false
   },
   "outputs": [],
   "source": [
    "f = open(\"Simluted_%s_Nanopore_x.fa\" % file_name, \"r\")\n",
    "x = f.readlines()\n",
    "f.close()\n",
    "PI = array([ [ 0.8122,  0.0034,  0.0894,  0.0950],\n",
    "             [ 0.0096,  0.8237,  0.0808,  0.0859],\n",
    "             [ 0.1066,  0.0436,  0.7774,  0.0724],\n",
    "             [ 0.0704,  0.0690,  0.0889,  0.7717]])\n",
    "f = open(\"Simluted_%s_Nanopore_z.fa\" % file_name, \"w\")\n",
    "for i in range(len(x)):\n",
    "    if i % 2 == 0:\n",
    "        f.write(x[i])\n",
    "        continue\n",
    "        \n",
    "    for j in range(len(x[i])-1):\n",
    "        rand =  random.random()\n",
    "        for k in range(4):\n",
    "            rand -= PI[nt_order.find(x[i][j]), k]\n",
    "            if rand < 0:\n",
    "                f.write(nt_order[k])\n",
    "                break\n",
    "    f.write('\\n')         \n",
    "f.close()"
   ]
  },
  {
   "cell_type": "code",
   "execution_count": null,
   "metadata": {
    "collapsed": false,
    "scrolled": true
   },
   "outputs": [],
   "source": [
    "f = open(\"Simluted_%s_Nanopore_x.fa\" % file_name, \"r\")\n",
    "x = f.readlines()\n",
    "f.close()\n",
    "f = open(\"Simluted_%s_Nanopore_z.fa\" % file_name, \"r\")\n",
    "z = f.readlines()\n",
    "f.close()\n",
    "\n",
    "total = 0\n",
    "error = 0\n",
    "for i in range(len(x)):\n",
    "    if i % 2 == 0:\n",
    "        continue\n",
    "        \n",
    "    for j in range(len(x[i])-1):\n",
    "        total += 1\n",
    "        if x[i][j] != z[i][j]:\n",
    "            error += 1\n",
    "            \n",
    "print total\n",
    "print error\n",
    "print float(error)/float(total)"
   ]
  },
  {
   "cell_type": "code",
   "execution_count": null,
   "metadata": {
    "collapsed": false
   },
   "outputs": [],
   "source": [
    "f_in = open(\"Simluted_%s_Nanopore_x.fa\" % file_name, \"r\")\n",
    "f_x = f_in.readlines()\n",
    "f_in.close()\n",
    "f_in = open(\"Simluted_%s_Nanopore_z.fa\" % file_name, \"r\")\n",
    "f_z = f_in.readlines()\n",
    "f_in.close()\n",
    "\n",
    "x = td.PREPROCESS(f_x,nt_order)\n",
    "z = td.PREPROCESS(f_z,nt_order)\n",
    "raw_error = td.error_rate(x,z)\n",
    "print len(x)\n",
    "print len(z)\n",
    "print raw_error"
   ]
  },
  {
   "cell_type": "code",
   "execution_count": 66,
   "metadata": {
    "collapsed": false
   },
   "outputs": [
    {
     "name": "stdout",
     "output_type": "stream",
     "text": [
      "1132\n",
      "894\n",
      "2372\n",
      "10\n",
      "10\n"
     ]
    },
    {
     "data": {
      "text/plain": [
       "(0, 1000)"
      ]
     },
     "execution_count": 66,
     "metadata": {},
     "output_type": "execute_result"
    },
    {
     "data": {
      "image/png": "[encoded data removed]",
      "text/plain": [
       "<matplotlib.figure.Figure at 0x7fbc6f60bb90>"
      ]
     },
     "metadata": {},
     "output_type": "display_data"
    },
    {
     "data": {
      "image/png": "[encoded data removed]",
      "text/plain": [
       "<matplotlib.figure.Figure at 0x7fbc68823750>"
      ]
     },
     "metadata": {},
     "output_type": "display_data"
    }
   ],
   "source": [
    "#SIMULATED DATA PLOTTING\n",
    "import matplotlib.pyplot as plt\n",
    "import matplotlib.mlab as mlab\n",
    "from scipy.interpolate import interp1d\n",
    "%matplotlib inline\n",
    "\n",
    "file_name = \"16S_rRNA\"\n",
    "f_in = open(\"Simluted_%s_Nanopore_x.fa\" % file_name, \"r\")\n",
    "x = f_in.readlines()\n",
    "f_in.close()\n",
    "\n",
    "LENGTH = [0] * (len(x) / 2)\n",
    "for i in range(len(x)/2):\n",
    "    LENGTH[i] = len(x[i*2+1])\n",
    "\n",
    "print max(LENGTH)\n",
    "print min(LENGTH)\n",
    "print len(LENGTH)\n",
    "\n",
    "fig = plt.figure(1)\n",
    "n, bins, patches = plt.hist(LENGTH, 8, [800,1200])\n",
    "N = [0]\n",
    "N.extend(n)\n",
    "N.extend([0])\n",
    "BINS = range(775,1250,50)\n",
    "\n",
    "print len(N)\n",
    "print len(BINS)\n",
    "\n",
    "fig = plt.figure(2)\n",
    "f = interp1d(BINS, N, kind='cubic')\n",
    "xnew = range(800,1200,5)\n",
    "plt.xlabel('Read Legnth',fontsize=16)\n",
    "plt.ylabel('Reads',fontsize=16)\n",
    "#plt.plot(BINS,N, 'ro')\n",
    "plt.plot(xnew, f(xnew), 'r')\n",
    "plt.xlim(850,1200)\n",
    "plt.ylim(0,1000)"
   ]
  }
 ],
 "metadata": {
  "kernelspec": {
   "display_name": "Python 2",
   "language": "python",
   "name": "python2"
  },
  "language_info": {
   "codemirror_mode": {
    "name": "ipython",
    "version": 2
   },
   "file_extension": ".py",
   "mimetype": "text/x-python",
   "name": "python",
   "nbconvert_exporter": "python",
   "pygments_lexer": "ipython2",
   "version": "2.7.6"
  }
 },
 "nbformat": 4,
 "nbformat_minor": 0
}
