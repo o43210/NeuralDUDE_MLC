{
 "cells": [
  {
   "cell_type": "code",
   "execution_count": 1,
   "metadata": {
    "collapsed": true
   },
   "outputs": [],
   "source": [
    "import numpy as np\n",
    "import binary_dude as bd"
   ]
  },
  {
   "cell_type": "markdown",
   "metadata": {},
   "source": [
    "# Hidden Markov\n",
    "\n",
    "* Baum-Welch & FB-Recursion을 이용해 noise를 제거.\n",
    "* FB-Recursion : known channel\n",
    "* Baum-Welch : unknown channel\n",
    "* FB_Recursion & baum_welch 함수는 binary_dude.py file에 정의되어 있다.\n",
    "\n",
    "baum_welch API:\n",
    "\n",
    "    def baum_welch(pi, a ,b ,x, denoise = True):\n",
    "        if denoise == False:\n",
    "            return a, b, gamma\n",
    "        else:\n",
    "            return x_hat, a, b, gamma\n",
    "            \n",
    "denoise = True 이면 noise 까지 제거한 x_hat 이 output으로 나온다.\n",
    "\n",
    "FB_Recursion API:\n",
    "    \n",
    "    def FB_recursion(pi, a, b, x, denoise = True):\n",
    "        if denoise == False:\n",
    "            return gamma\n",
    "        else:\n",
    "            return x_hat, gamma\n",
    "denoise = True 이면 noise 까지 제거한 x_hat 이 output으로 나온다.\n",
    "\n",
    "* a: transition probability matrix\n",
    "\n",
    "* b: emission probability matrix\n",
    "\n",
    "* gamma: \\\\(P(x_t | z^n)\\\\)"
   ]
  },
  {
   "cell_type": "markdown",
   "metadata": {},
   "source": [
    "# BSMC with BSC Hidden Markov Chain\n",
    "* clean signal : binary symmetric markov chain\n",
    "* noise signal : BSMC에 binary symmetric channel noise 를 적용."
   ]
  },
  {
   "cell_type": "code",
   "execution_count": 2,
   "metadata": {},
   "outputs": [
    {
     "name": "stdout",
     "output_type": "stream",
     "text": [
      "clean & noise error rate: 0.100296\n",
      "BW error rate: 0.056122\n",
      "FB error rate: 0.055634\n"
     ]
    }
   ],
   "source": [
    "#n = int(1e6)\n",
    "n = 65536\n",
    "states = 2\n",
    "\n",
    "#############################################################\n",
    "x = bd.bsmc(n, 0.1) # clean signal\n",
    "z = bd.bsc(x, 0.1) # noise signal\n",
    "#############################################################\n",
    "\n",
    "p = 0.3\n",
    "delta = 0.3\n",
    "\n",
    "pi = np.ones(states) * (float(1)/states)\n",
    "a = bd.sym_mat(states, p)\n",
    "b = bd.sym_mat(states, delta)\n",
    "a_ans = bd.sym_mat(states,0.1)\n",
    "b_ans = bd.sym_mat(states,0.1)\n",
    "\n",
    "\n",
    "a_ans = np.array([[0.9, 0.1], [0.1, 0.9]])\n",
    "b_ans = np.array([[0.9, 0.1], [0.1, 0.9]])\n",
    "\n",
    "x_hat_BW, a_out, b_out, gamma_BW = bd.baum_welch(pi, a, b, z)\n",
    "x_hat_FB, gamma_FB = bd.FB_recursion(pi, a_ans, b_ans, z)\n",
    "\n",
    "print(\"clean & noise error rate: %f\"%(bd.error_rate(x, z)))\n",
    "print(\"BW error rate: %f\"%(bd.error_rate(x, x_hat_BW)))\n",
    "print(\"FB error rate: %f\"%(bd.error_rate(x, x_hat_FB)))"
   ]
  },
  {
   "cell_type": "markdown",
   "metadata": {},
   "source": [
    "# QSMC with QSC Hidden Markov Chain\n",
    "* clean signal : quaternary symmetric markov chain\n",
    "* noise signal : QSMC에 quaternary symmetric channel noise 를 적용."
   ]
  },
  {
   "cell_type": "code",
   "execution_count": 3,
   "metadata": {},
   "outputs": [
    {
     "name": "stdout",
     "output_type": "stream",
     "text": [
      "clean & noise error rate: 0.100662\n",
      "BW error rate: 0.034561\n",
      "FB error rate: 0.034302\n"
     ]
    }
   ],
   "source": [
    "#n = int(1e6)\n",
    "n = 65536\n",
    "states = 4\n",
    "\n",
    "#############################################################\n",
    "x = bd.qsmc(n, 0.1) # clean signal\n",
    "z = bd.qsc(x, 0.1) # noise signal\n",
    "#############################################################\n",
    "\n",
    "a = bd.sym_mat(states, 0.3)\n",
    "b = bd.sym_mat(states, 0.3)\n",
    "a_ans = bd.sym_mat(states, 0.1)\n",
    "b_ans = bd.sym_mat(states, 0.1)\n",
    "pi = np.ones(states) * (float(1)/states)\n",
    "\n",
    "\n",
    "x_hat_BW, a_out, b_out, gamma_BW = bd.baum_welch(pi, a, b, z)\n",
    "x_hat_FB, gamma_FB = bd.FB_recursion(pi, a_ans, b_ans, z)\n",
    "\n",
    "print(\"clean & noise error rate: %f\"%(bd.q_error_rate(x, z)))\n",
    "print(\"BW error rate: %f\"%(bd.q_error_rate(x, x_hat_BW)))\n",
    "print(\"FB error rate: %f\"%(bd.q_error_rate(x, x_hat_FB)))"
   ]
  },
  {
   "cell_type": "markdown",
   "metadata": {},
   "source": [
    "# quaterary->binary with BSC Hidden Markov Chain\n",
    "* clean signal : quaternary to binary markov chain\n",
    "* noise signal : markov chain 에 binary symmetric channel noise 를 적용."
   ]
  },
  {
   "cell_type": "code",
   "execution_count": 4,
   "metadata": {},
   "outputs": [
    {
     "name": "stdout",
     "output_type": "stream",
     "text": [
      "clean & noise error rate: 0.099915\n",
      "BW error rate: 0.073929\n",
      "FB error rate: 0.072006\n"
     ]
    }
   ],
   "source": [
    "#n = int(1e6)\n",
    "n = 65536\n",
    "states = 2\n",
    "\n",
    "#############################################################\n",
    "x = bd.qbc(n, 0.1, 0.2) # clean signal\n",
    "z = bd.bsc(x, 0.1) # noise signal\n",
    "#############################################################\n",
    "\n",
    "a = bd.sym_mat(2, 0.3)\n",
    "b = bd.sym_mat(2, 0.3)\n",
    "a_ans = bd.sym_mat(2, 0.1)\n",
    "b_ans = bd.sym_mat(2, 0.1)\n",
    "pi = np.ones(2) * (float(1)/states)\n",
    "\n",
    "x_hat_BW, a_out, b_out, gamma_BW = bd.baum_welch(pi, a, b, z)\n",
    "x_hat_FB, gamma_FB = bd.FB_recursion(pi, a_ans, b_ans, z)\n",
    "\n",
    "#############################################################\n",
    "\"\"\"\n",
    "quaterary -> binary markov(second order)로 signal을 생성한 수 baum welch를 적용할떄는 binary->binary(first orde)r로 적용.\n",
    "\"\"\"\n",
    "print(\"clean & noise error rate: %f\"%(bd.error_rate(x, z)))\n",
    "print(\"BW error rate: %f\"%(bd.error_rate(x, x_hat_BW)))\n",
    "print(\"FB error rate: %f\"%(bd.error_rate(x, x_hat_FB)))\n",
    "#############################################################\n",
    "\n"
   ]
  },
  {
   "cell_type": "code",
   "execution_count": null,
   "metadata": {
    "collapsed": true
   },
   "outputs": [],
   "source": []
  }
 ],
 "metadata": {
  "kernelspec": {
   "display_name": "Python 2",
   "language": "python",
   "name": "python2"
  },
  "language_info": {
   "codemirror_mode": {
    "name": "ipython",
    "version": 2
   },
   "file_extension": ".py",
   "mimetype": "text/x-python",
   "name": "python",
   "nbconvert_exporter": "python",
   "pygments_lexer": "ipython2",
   "version": "2.7.6"
  }
 },
 "nbformat": 4,
 "nbformat_minor": 2
}
