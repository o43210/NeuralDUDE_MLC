{
 "cells": [
  {
   "cell_type": "code",
   "execution_count": 1,
   "metadata": {
    "collapsed": true
   },
   "outputs": [],
   "source": [
    "import numpy as np"
   ]
  },
  {
   "cell_type": "code",
   "execution_count": null,
   "metadata": {
    "collapsed": true
   },
   "outputs": [],
   "source": [
    "def forward(pi, a, b, x):\n",
    "    T = x.shape[0]\n",
    "    alpha = np.zeros((T, 2), np.float64)\n",
    "    # alpha[t][i]\n",
    "    alpha[0][0] = pi[0]*b[0][x[0]]\n",
    "    alpha[0][1] = pi[1]*b[1][x[0]]\n",
    "    \n",
    "    for t in range(1,T):\n",
    "        alpha[t] = b[:,x[t]] * np.sum(a.T * alpha[t-1], axis = 1)\n",
    "    alpha += 1e-35\n",
    "    return alpha\n",
    "    \n",
    "def backward(a, b, x):\n",
    "    T = x.shape[0]\n",
    "    beta = np.zeros((T, 2))\n",
    "    # beta[t][i]\n",
    "    beta[T-1][0] = 1\n",
    "    beta[T-1][1] = 1\n",
    "    \n",
    "    for t in reversed(range(1, T)):\n",
    "        beta[t-1] = np.sum(beta[t] * a * b[:, x[t]], axis = 1)\n",
    "    beta += 1e-35\n",
    "    return beta\n",
    "\n",
    "def baum_welch(alpha, beta, a, b, x):\n",
    "    T = x.shape[0]\n",
    "    states = a.shape[0]\n",
    "    \n",
    "    # gamma[t][i]\n",
    "    gamma = alpha * beta\n",
    "    gamma /= np.sum(gamma, axis=1).reshape(T,1)\n",
    "    \n",
    "    # xi[t][i][j]\n",
    "    xi = alpha.reshape(T,states,1)[0:T-1] * beta.reshape(T,1,states)[1:T] * (a * b.T[x[1:T]].reshape(T-1, 1, states))\n",
    "    xi /= np.sum(xi, axis=(1,2)).reshape(T-1, 1, 1)\n",
    "        \n",
    "    \n",
    "    # update a & b & pi\n",
    "    a = np.sum(xi,axis = 0) / np.sum(gamma[0:T-1], axis = 0).reshape(states, 1)\n",
    "    \n",
    "    b = np.zeros((states, states))\n",
    "    np.add.at(b.T, x, gamma)\n",
    "    b /= np.sum(gamma, axis = 0).reshape(states, 1)\n",
    "    \n",
    "    \n",
    "    pi = gamma[0]\n",
    "    return pi, a, b"
   ]
  }
 ],
 "metadata": {
  "kernelspec": {
   "display_name": "Python 3",
   "language": "python",
   "name": "python3"
  },
  "language_info": {
   "codemirror_mode": {
    "name": "ipython",
    "version": 3
   },
   "file_extension": ".py",
   "mimetype": "text/x-python",
   "name": "python",
   "nbconvert_exporter": "python",
   "pygments_lexer": "ipython3",
   "version": "3.4.0"
  }
 },
 "nbformat": 4,
 "nbformat_minor": 2
}
