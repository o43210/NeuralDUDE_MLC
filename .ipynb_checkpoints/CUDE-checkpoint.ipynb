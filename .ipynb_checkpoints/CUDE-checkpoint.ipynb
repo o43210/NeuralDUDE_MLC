{
 "cells": [
  {
   "cell_type": "code",
   "execution_count": 1,
   "metadata": {},
   "outputs": [
    {
     "name": "stderr",
     "output_type": "stream",
     "text": [
      "Using TensorFlow backend.\n"
     ]
    }
   ],
   "source": [
    "import numpy as np\n",
    "\n",
    "import tensorflow as tf\n",
    "import keras as K\n",
    "import sys\n",
    "\n",
    "from keras import layers\n",
    "from keras import models\n",
    "from keras import optimizers\n",
    "from keras import utils\n",
    "import binary_dude as bd"
   ]
  },
  {
   "cell_type": "code",
   "execution_count": 2,
   "metadata": {
    "collapsed": true
   },
   "outputs": [],
   "source": [
    "config = tf.ConfigProto()\n",
    "config.gpu_options.allow_growth = True\n",
    "session = tf.Session(config=config)\n",
    "\n",
    "K.backend.set_session(session)"
   ]
  },
  {
   "cell_type": "code",
   "execution_count": 3,
   "metadata": {},
   "outputs": [
    {
     "name": "stdout",
     "output_type": "stream",
     "text": [
      "(65536,)\n",
      "[0 0 0 0 0 0 0 0 0 0 1 1 1 0 1 1 1 1 1 1 1 1 1 1 0 1 1 1 0 0]\n"
     ]
    }
   ],
   "source": [
    "alpha=0.1\n",
    "delta=0.1\n",
    "nb_classes=2\n",
    "\n",
    "n = 65536\n",
    "x = bd.bsmc(n, alpha)\n",
    "z = bd.bsc(x,delta)\n",
    "Z=utils.np_utils.to_categorical(z,nb_classes)\n",
    "\n",
    "print x.shape\n",
    "print z[0:30]"
   ]
  },
  {
   "cell_type": "code",
   "execution_count": 4,
   "metadata": {},
   "outputs": [
    {
     "name": "stdout",
     "output_type": "stream",
     "text": [
      "k= 3\n",
      "0.0587005615234375\n",
      "k= 4\n",
      "0.0575714111328125\n",
      "k= 5\n",
      "0.0587005615234375\n"
     ]
    }
   ],
   "source": [
    "k1 = int(sys.argv[1])\n",
    "k2 = int(sys.argv[2])\n",
    "gpu_num = int(sys.argv[3])\n",
    "\n",
    "#k1 = 3\n",
    "#k2 = 5\n",
    "\n",
    "\n",
    "f = open(\"CUDE_gpu%d.txt\"%gpu_num, \"w\")\n",
    "f.write(\"gpu%d resut\\n\"%gpu_num)\n",
    "f.close()\n",
    "\n",
    "\n",
    "for k in xrange(k1, k2+1):\n",
    "    print 'k=',k\n",
    "    \n",
    "    C,Y = bd.make_data_for_cude(Z,k,n)\n",
    "\n",
    "    #--------------------------------------------------------------------------#\n",
    "    #----------------------------Neural Net model------------------------------#\n",
    "    inputs = layers.Input(shape = (2 * k,))\n",
    "    layer = layers.Dense(40, kernel_initializer = 'he_normal')(inputs)\n",
    "    layer = layers.Activation('relu')(layer)\n",
    "    layer = layers.Dense(40, kernel_initializer = 'he_normal')(layer)\n",
    "    layer = layers.Activation('relu')(layer)\n",
    "    layer = layers.Dense(40, kernel_initializer = 'he_normal')(layer)\n",
    "    layer = layers.Activation('relu')(layer)\n",
    "    layer = layers.Dense(40, kernel_initializer = 'he_normal')(layer)\n",
    "    layer = layers.Activation('relu')(layer)\n",
    "    layer = layers.Dense(40, kernel_initializer = 'he_normal')(layer)\n",
    "    layer = layers.Activation('relu')(layer)\n",
    "    layer = layers.Dense(40, kernel_initializer = 'he_normal')(layer)\n",
    "    layer = layers.Activation('relu')(layer)\n",
    "    layer = layers.Dense(2, kernel_initializer = 'he_normal')(layer)\n",
    "    outputs = layers.Activation('softmax')(layer)\n",
    "    model = models.Model(inputs = inputs, outputs = outputs)\n",
    "\n",
    "    adam = optimizers.Adam()\n",
    "    model.compile(loss='categorical_crossentropy', optimizer=adam)\n",
    "\n",
    "    model.fit(C,Y,epochs=10,batch_size=100, verbose=0, validation_data=(C, Y))\n",
    "    #--------------------------------------------------------------------------#\n",
    "    #--------------------------------------------------------------------------#\n",
    "\n",
    "    pred_prob = model.predict(C, batch_size = 200, verbose = 0)\n",
    "    x_hat = bd.denoise_with_prob(z, k, delta, pred_prob)\n",
    "    \n",
    "    error_cu=bd.error_rate(x,x_hat)\n",
    "    print(error_cu)\n",
    "    with open(\"CUDE_gpu%d.txt\"%gpu_num,\"a\") as f:\n",
    "        f.write(\"k=%d error_cu = %f\\n\"%(k,error_cu))"
   ]
  },
  {
   "cell_type": "code",
   "execution_count": null,
   "metadata": {
    "collapsed": true
   },
   "outputs": [],
   "source": []
  }
 ],
 "metadata": {
  "kernelspec": {
   "display_name": "Python 2",
   "language": "python",
   "name": "python2"
  },
  "language_info": {
   "codemirror_mode": {
    "name": "ipython",
    "version": 2
   },
   "file_extension": ".py",
   "mimetype": "text/x-python",
   "name": "python",
   "nbconvert_exporter": "python",
   "pygments_lexer": "ipython2",
   "version": "2.7.6"
  }
 },
 "nbformat": 4,
 "nbformat_minor": 2
}
